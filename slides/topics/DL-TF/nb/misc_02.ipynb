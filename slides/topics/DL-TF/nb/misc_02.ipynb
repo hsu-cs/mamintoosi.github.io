{
 "cells": [
  {
   "cell_type": "code",
   "execution_count": 8,
   "metadata": {},
   "outputs": [
    {
     "name": "stdout",
     "output_type": "stream",
     "text": [
      "tf.Tensor(5, shape=(), dtype=int32) 5\n"
     ]
    }
   ],
   "source": [
    "import tensorflow as tf\n",
    "\n",
    "# Create a TensorFlow variable with an initial value of 2\n",
    "my_var = tf.Variable(2)\n",
    "\n",
    "my_var = my_var + 3\n",
    "print(my_var, my_var.numpy())  # Output: 5\n",
    "\n",
    "# my_var = my_var + 4\n",
    "# print(my_var, my_var.numpy())  # Output: 10\n",
    "\n",
    "# my_var.assign_add(7)\n",
    "# print(my_var, my_var.numpy())  # Output: 10"
   ]
  },
  {
   "cell_type": "code",
   "execution_count": 5,
   "metadata": {},
   "outputs": [
    {
     "name": "stdout",
     "output_type": "stream",
     "text": [
      "<tf.Variable 'Variable:0' shape=() dtype=int32, numpy=5> 5\n"
     ]
    }
   ],
   "source": [
    "b = tf.Variable(tf.constant(2))\n",
    "\n",
    "b.assign_add(3)\n",
    "print(b, b.numpy())  # Output: 5\n"
   ]
  },
  {
   "cell_type": "markdown",
   "metadata": {},
   "source": [
    "add\n",
    "برخلاف\n",
    "assign_add\n",
    "تبدیلش کرد به تنسور و لذا \n",
    "assign_add\n",
    "نخواهد داشت"
   ]
  },
  {
   "cell_type": "markdown",
   "metadata": {},
   "source": [
    "https://www.tensorflow.org/api_docs/python/tf/compat/v1/assign_add\n",
    "\n",
    "Unlike tf.math.add, this op (assign_add) does not broadcast. \n",
    "ref and value must have the same shape."
   ]
  },
  {
   "cell_type": "code",
   "execution_count": 6,
   "metadata": {},
   "outputs": [
    {
     "name": "stdout",
     "output_type": "stream",
     "text": [
      "tf.Tensor(6, shape=(), dtype=int32) 6\n"
     ]
    }
   ],
   "source": [
    "c = tf.Variable(3)\n",
    "\n",
    "c = tf.add(c, 3)\n",
    "print(c, c.numpy())  # Output: 5\n"
   ]
  },
  {
   "cell_type": "code",
   "execution_count": null,
   "metadata": {},
   "outputs": [],
   "source": []
  }
 ],
 "metadata": {
  "kernelspec": {
   "display_name": "p310",
   "language": "python",
   "name": "python3"
  },
  "language_info": {
   "codemirror_mode": {
    "name": "ipython",
    "version": 3
   },
   "file_extension": ".py",
   "mimetype": "text/x-python",
   "name": "python",
   "nbconvert_exporter": "python",
   "pygments_lexer": "ipython3",
   "version": "3.10.4"
  }
 },
 "nbformat": 4,
 "nbformat_minor": 2
}
